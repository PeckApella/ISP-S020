{
  "nbformat": 4,
  "nbformat_minor": 0,
  "metadata": {
    "colab": {
      "provenance": []
    },
    "kernelspec": {
      "name": "python3",
      "display_name": "Python 3"
    },
    "language_info": {
      "name": "python"
    }
  },
  "cells": [
    {
      "cell_type": "markdown",
      "source": [
        "#1. Vernam Cipher"
      ],
      "metadata": {
        "id": "kUyJbEazSRci"
      }
    },
    {
      "cell_type": "code",
      "source": [
        "# function to apply algo of vernam cipher\n",
        "def vernam(plain_text,key):\n",
        "\n",
        "    # convert into lower cases and remove spaces\n",
        "    \n",
        "    plain_text=plain_text.replace(\" \",\"\")\n",
        "    key=key.replace(\" \",\"\")\n",
        "    plain_text=plain_text.lower()\n",
        "    key=key.lower()\n",
        "    \n",
        "    # conditional statements\n",
        "    if(len(plain_text)!=len(key)):\n",
        "        print(\"Lengths are different\")\n",
        "        \n",
        "    else:\n",
        "        cipher_text=\"\"\n",
        "        # iterating through the length\n",
        "        for i in range(len(plain_text)):\n",
        "            k1=ord(plain_text[i])-97\n",
        "            k2=ord(key[i])-97\n",
        "            s=chr(((k1+k2))%26+97)\n",
        "            cipher_text+=s\n",
        "        print(\"Enrypted message is: \",cipher_text)\n",
        "\n",
        "\n",
        "plain_text=input(\"Enter the message: \")\n",
        "key=input(\"Enter the one time pad: \")\n",
        "vernam(plain_text,key)"
      ],
      "metadata": {
        "id": "IZj5prpnSR5a"
      },
      "execution_count": null,
      "outputs": []
    },
    {
      "cell_type": "code",
      "source": [
        "# function to apply algo of vernam cipher\n",
        "def vernam(plain_text,key):\n",
        "\n",
        "    # convert into lower cases and remove spaces\n",
        "    \n",
        "    plain_text=plain_text.replace(\" \",\"\")\n",
        "    key=key.replace(\" \",\"\")\n",
        "    plain_text=plain_text.lower()\n",
        "    key=key.lower()\n",
        "    \n",
        "    # conditional statements\n",
        "    if(len(plain_text)!=len(key)):\n",
        "        print(\"Lengths are different\")\n",
        "        \n",
        "    else:\n",
        "        cipher_text=\"\"\n",
        "        # iterating through the length\n",
        "        for i in range(len(plain_text)):\n",
        "            k1=ord(plain_text[i])-97\n",
        "            k2=ord(key[i])-97\n",
        "            s=chr(((k1-k2))%26+97)\n",
        "            cipher_text+=s\n",
        "        print(\"Enrypted message is: \",cipher_text)\n",
        "\n",
        "\n",
        "plain_text=input(\"Enter the message: \")\n",
        "key=input(\"Enter the one time pad: \")\n",
        "vernam(plain_text,key)"
      ],
      "metadata": {
        "id": "EvTyPNszRL2Q"
      },
      "execution_count": null,
      "outputs": []
    },
    {
      "cell_type": "markdown",
      "source": [
        "#2. Keyword Cipher"
      ],
      "metadata": {
        "id": "nkAY6WqrSQNs"
      }
    },
    {
      "cell_type": "code",
      "source": [
        "# Python program for encoding the string\n",
        "message = \"Attack at dawn\"\n",
        "keyword = \"Star War\"\n",
        "ciphertext = \"\""
      ],
      "metadata": {
        "id": "TVoEDr-MR5SA"
      },
      "execution_count": 2,
      "outputs": []
    },
    {
      "cell_type": "code",
      "source": [
        "# removes default elements\n",
        "# remove duplicates\n",
        "def duplicates(list):\n",
        "  key = []\n",
        "  for i in list:\n",
        "    if i not in key:\n",
        "      key.append(i)\n",
        "        \n",
        "  return key"
      ],
      "metadata": {
        "id": "QesuqmsqSPyw"
      },
      "execution_count": 3,
      "outputs": []
    },
    {
      "cell_type": "code",
      "source": [
        "def keyword_encrypt(keyword,message):\n",
        "  # Python program for encoding the string\n",
        "  ciphertext = \"\"\n",
        "\n",
        "  # stores all upper case alphabets\n",
        "  all_alphabets = []\n",
        "  for i in range(97,123):\n",
        "    all_alphabets.append(chr(i).upper())\n",
        "\n",
        "  # converts message to list\n",
        "  msg = []\n",
        "  for i in message:\n",
        "      msg.append(i.upper())\n",
        "      \n",
        "  #msg = [x.upper() for x in message]\n",
        "\n",
        "  keyword1 = keyword.upper()\n",
        "\n",
        "  keyword1 = duplicates(keyword1)\n",
        "  #print(\"keyword after removing duplicate\",keyword1)\n",
        "\n",
        "  # Stores the encryption list\n",
        "  encrypting = duplicates(keyword1+all_alphabets)\n",
        "  #print(\"Enctyptig text is\",encrypting)\n",
        "\n",
        "  #removes spaces from the encryption list\n",
        "  for i in encrypting:\n",
        "    if(i == ' '):\n",
        "      encrypting.remove(' ')\n",
        "\n",
        "  # maps each element of the message to the encryption list and stores it in ciphertext\n",
        "  for i in range(len(msg)):\n",
        "    if(msg[i] != ' '):\n",
        "      ciphertext = ciphertext+encrypting[all_alphabets.index(msg[i])]\n",
        "    else:\n",
        "      ciphertext = ciphertext+' '\n",
        "\n",
        "  return ciphertext"
      ],
      "metadata": {
        "id": "maj9-TKYSbHd"
      },
      "execution_count": 5,
      "outputs": []
    },
    {
      "cell_type": "code",
      "source": [
        "print(\"Keyword : \", keyword)\n",
        "print(\"Message before Ciphering : \", message)\n",
        "print(\"Ciphered Text : \", keyword_encrypt(keyword,message))"
      ],
      "metadata": {
        "colab": {
          "base_uri": "https://localhost:8080/"
        },
        "id": "nfYImBIiSqRz",
        "outputId": "c71387ba-ca2c-4705-944a-264365f7c940"
      },
      "execution_count": 6,
      "outputs": [
        {
          "output_type": "stream",
          "name": "stdout",
          "text": [
            "Keyword :  Star War\n",
            "Message before Ciphering :  Attack at dawn\n",
            "Ciphered Text :  SPPSAG SP RSVJ\n"
          ]
        }
      ]
    },
    {
      "cell_type": "code",
      "source": [
        "# Python program for encoding the string\n",
        "message = \"\"\n",
        "keyword = \"Star War\"\n",
        "ciphertext = \"SPPSAG SP RSVJ\""
      ],
      "metadata": {
        "id": "jucwjE_cSsI-"
      },
      "execution_count": null,
      "outputs": []
    },
    {
      "cell_type": "code",
      "source": [
        "def duplicates(list):\n",
        "\tkey = []\n",
        "\tfor i in list:\n",
        "\t\tif i not in key:\n",
        "\t\t\tkey.append(i)\n",
        "\n",
        "\treturn key"
      ],
      "metadata": {
        "id": "SmV0ahU1SvTB"
      },
      "execution_count": null,
      "outputs": []
    },
    {
      "cell_type": "code",
      "source": [
        "def keyword_decrypt(keyword,message):\n",
        "  # Python program for encoding the string\n",
        "  message = \"\"\n",
        "\n",
        "  # stores all upper case alphabets\n",
        "  all_alphabets = []\n",
        "  for i in range(65,91):\n",
        "    all_alphabets.append(chr(i))\n",
        " \n",
        "\n",
        "  # converts message to list\n",
        "  ct = []\n",
        "  for i in ciphertext:\n",
        "      ct.append(i.upper())\n",
        "      \n",
        "  #msg = [x.upper() for x in message]\n",
        "\n",
        "  keyword1 = keyword.upper()\n",
        "\n",
        "  keyword1 = duplicates(keyword1)\n",
        " # print(\"keyword after removing duplicate\",keyword1)\n",
        "\n",
        "  # Stores the encryption list\n",
        "  encrypting = duplicates(keyword1+all_alphabets)\n",
        "  #print(\"Enctyptig text is\",encrypting)\n",
        "\n",
        "  #removes spaces from the encryption list\n",
        "  for i in encrypting:\n",
        "    if(i == ' '):\n",
        "      encrypting.remove(' ')\n",
        "\n",
        "  # maps each element of the message to the encryption list and stores it in ciphertext\n",
        "  for i in range(len(ct)):\n",
        "    if(ct[i] != ' '):\n",
        "      message = message+all_alphabets[encrypting.index(ct[i])]\n",
        "    else:\n",
        "      message = message+' '\n",
        "\n",
        "  return message"
      ],
      "metadata": {
        "id": "DzJXI3YOSxR7"
      },
      "execution_count": null,
      "outputs": []
    },
    {
      "cell_type": "code",
      "source": [
        "print(\"Keyword : \", keyword)\n",
        "print(\"Ciphered Text : \", ciphertext)\n",
        "print(\"Message before Ciphering : \", keyword_decrypt(keyword,message))"
      ],
      "metadata": {
        "id": "SB27Q1iDS2FK"
      },
      "execution_count": null,
      "outputs": []
    },
    {
      "cell_type": "markdown",
      "source": [
        "#3. Vigenere Cipher"
      ],
      "metadata": {
        "id": "aMrj590STwJm"
      }
    },
    {
      "cell_type": "code",
      "source": [
        "# Python code to implement\n",
        "# Vigenere Cipher\n",
        "def generateKey(string, key):\n",
        "    key = list(key)\n",
        "    if len(string) == len(key):\n",
        "        return(key)\n",
        "    else:\n",
        "        for i in range(len(string) -\n",
        "                       len(key)):\n",
        "            key.append(key[i % len(key)])\n",
        "    return(\"\" . join(key))\n",
        "     \n",
        "# This function returns the\n",
        "# encrypted text generated\n",
        "# with the help of the key\n",
        "def cipherText(string, key):\n",
        "    cipher_text = []\n",
        "    for i in range(len(string)):\n",
        "        x = (ord(string[i]) +\n",
        "             ord(key[i])) % 26\n",
        "        x += ord('A')\n",
        "        cipher_text.append(chr(x))\n",
        "    return(\"\" . join(cipher_text))\n",
        "     \n",
        "# This function decrypts the\n",
        "# encrypted text and returns\n",
        "# the original text\n",
        "def originalText(cipher_text, key):\n",
        "    orig_text = []\n",
        "    for i in range(len(cipher_text)):\n",
        "        x = (ord(cipher_text[i]) -\n",
        "             ord(key[i]) + 26) % 26\n",
        "        x += ord('A')\n",
        "        orig_text.append(chr(x))\n",
        "    return(\"\" . join(orig_text))\n",
        "     \n",
        "if __name__ == \"__main__\":\n",
        "    string = \"GEEKSFORGEEKS\"\n",
        "    keyword = \"AYUSH\"\n",
        "    key = generateKey(string, keyword)\n",
        "    cipher_text = cipherText(string,key)\n",
        "    print(\"Ciphertext :\", cipher_text)\n",
        "    print(\"Original/Decrypted Text :\",\n",
        "           originalText(cipher_text, key))"
      ],
      "metadata": {
        "id": "oRLRZewyUPoQ"
      },
      "execution_count": null,
      "outputs": []
    }
  ]
}